{
 "cells": [
  {
   "cell_type": "code",
   "execution_count": 1,
   "metadata": {},
   "outputs": [],
   "source": [
    "from typing import List\n",
    "import jax\n",
    "import jax.numpy as jnp\n",
    "import jax.random as jr\n",
    "import equinox as eqx\n",
    "import optax \n",
    "import numpy as np\n",
    "import torch\n",
    "import matplotlib.pyplot as plt\n",
    "from tqdm.notebook import trange\n",
    "\n",
    "from model import MultiheadAttentionPooling, SelfAttentionBlock"
   ]
  },
  {
   "cell_type": "code",
   "execution_count": 2,
   "metadata": {},
   "outputs": [
    {
     "data": {
      "text/plain": [
       "((50000, 10, 1), (50000, 1))"
      ]
     },
     "execution_count": 2,
     "metadata": {},
     "output_type": "execute_result"
    }
   ],
   "source": [
    "def get_dataset(key, n_data, max_length=10):\n",
    "    x = jr.randint(key, (n_data, max_length), 1, 100) \n",
    "    x = jnp.expand_dims(x, axis=2)\n",
    "    y = jnp.max(x, axis=1)\n",
    "    y = jnp.expand_dims(y, axis=1)\n",
    "    return x, y\n",
    "\n",
    "\n",
    "key = jr.key(0)\n",
    "\n",
    "X, Y = get_dataset(key, 50_000)\n",
    "X.shape, Y.shape"
   ]
  },
  {
   "cell_type": "code",
   "execution_count": 3,
   "metadata": {},
   "outputs": [],
   "source": [
    "class SmallSetTransformer(eqx.Module):\n",
    "    blocks: List[SelfAttentionBlock]\n",
    "    pooling: MultiheadAttentionPooling\n",
    "    out: eqx.nn.Linear\n",
    "\n",
    "    def __init__(self, *, key):\n",
    "        keys = jr.split(key, 4)\n",
    "        # Encoder\n",
    "        self.blocks = [\n",
    "            SelfAttentionBlock(\n",
    "                in_size=1, out_size=64, n_heads=4, hidden_dim=64, key=keys[0]\n",
    "            ),\n",
    "            SelfAttentionBlock(\n",
    "                in_size=64, out_size=64, n_heads=4, hidden_dim=64, key=keys[1]\n",
    "            )\n",
    "        ]\n",
    "        # Decoder \n",
    "        self.pooling = MultiheadAttentionPooling(\n",
    "            in_size=64, n_heads=4, n_seeds=1, hidden_dim=64, key=keys[2]\n",
    "        )\n",
    "        self.out = eqx.nn.Linear(in_features=64, out_features=1, key=keys[3])\n",
    "\n",
    "    def __call__(self, x):\n",
    "        for b in self.blocks:\n",
    "            x = b(x)\n",
    "        x = self.pooling(x)\n",
    "        x = jax.vmap(self.out)(x)\n",
    "        return x.squeeze(-1)"
   ]
  },
  {
   "cell_type": "code",
   "execution_count": 4,
   "metadata": {},
   "outputs": [
    {
     "name": "stderr",
     "output_type": "stream",
     "text": [
      "/var/folders/8t/4ygzv0nj53sdbz0dz587zwzh0000gq/T/ipykernel_84299/2141409469.py:6: UserWarning: The given NumPy array is not writable, and PyTorch does not support non-writable tensors. This means writing to this tensor will result in undefined behavior. You may want to copy the array to protect its data or make it writable before converting it to a tensor. This type of warning will be suppressed for the rest of this program. (Triggered internally at /Users/runner/work/pytorch/pytorch/pytorch/torch/csrc/utils/tensor_numpy.cpp:212.)\n",
      "  torch.as_tensor(Xt), torch.as_tensor(Yt)\n"
     ]
    }
   ],
   "source": [
    "f = 0.8\n",
    "Xt, Xv = np.split(X, [int(f * len(X))])\n",
    "Yt, Yv = np.split(Y, [int(f * len(X))])\n",
    "\n",
    "set_ds_train = torch.utils.data.TensorDataset(\n",
    "    torch.as_tensor(Xt), torch.as_tensor(Yt)\n",
    ")\n",
    "set_ds_valid = torch.utils.data.TensorDataset(\n",
    "    torch.as_tensor(Xv), torch.as_tensor(Yv)\n",
    ")"
   ]
  },
  {
   "cell_type": "code",
   "execution_count": 5,
   "metadata": {},
   "outputs": [
    {
     "data": {
      "application/vnd.jupyter.widget-view+json": {
       "model_id": "ed55223fae974c728778ed68a0bab4ec",
       "version_major": 2,
       "version_minor": 0
      },
      "text/plain": [
       "  0%|          | 0/1000 [00:00<?, ?it/s]"
      ]
     },
     "metadata": {},
     "output_type": "display_data"
    }
   ],
   "source": [
    "n_epochs = 1000\n",
    "n_batch = 2000\n",
    "opt = optax.adam(learning_rate=1e-4)\n",
    "\n",
    "n_data, n_set, data_dim = X.shape\n",
    "\n",
    "model = SmallSetTransformer(key=key)\n",
    "\n",
    "opt_state = opt.init(eqx.filter(model, eqx.is_array))\n",
    "\n",
    "\n",
    "def loss(model, x, y):\n",
    "    y_ = jax.vmap(model)(x)\n",
    "    return jnp.abs(y - y_).mean()\n",
    "\n",
    "\n",
    "@eqx.filter_jit\n",
    "def make_step(model, opt_state, x, y):\n",
    "    loss_value, grads = eqx.filter_value_and_grad(loss)(model, x, y)\n",
    "    updates, opt_state = opt.update(grads, opt_state, model)\n",
    "    model = eqx.apply_updates(model, updates)\n",
    "    return model, opt_state, loss_value\n",
    "\n",
    "\n",
    "@eqx.filter_jit\n",
    "def eval(model, x, y):\n",
    "    loss_value = loss(model, x, y)\n",
    "    return loss_value\n",
    "\n",
    "\n",
    "def prepare(x, y):\n",
    "    return x.numpy(), y.numpy()\n",
    "\n",
    "\n",
    "losses = []\n",
    "with trange(n_epochs) as bar:\n",
    "    set_dl_train = torch.utils.data.DataLoader(\n",
    "        set_ds_train, batch_size=n_batch\n",
    "    )\n",
    "    set_dl_valid = torch.utils.data.DataLoader(\n",
    "        set_ds_valid, batch_size=n_batch\n",
    "    )\n",
    "\n",
    "    for _ in bar:\n",
    "        Lt = 0.\n",
    "        for t, (x, y) in enumerate(set_dl_train):\n",
    "            x, y = prepare(x, y)\n",
    "            model, opt_state, _Lt = make_step(model, opt_state, x, y)\n",
    "            Lt += _Lt\n",
    "\n",
    "        Lv = 0.\n",
    "        for v, (x, y) in enumerate(set_dl_valid):\n",
    "            x, y = prepare(x, y)\n",
    "            _Lv = eval(model, x, y)\n",
    "            Lv += _Lv\n",
    "        \n",
    "        Lt = Lt.item() / (t + 1) \n",
    "        Lv = Lv.item() / (v + 1)\n",
    "        losses.append((Lt, Lv))\n",
    "        bar.set_postfix_str(f\"{Lt=:.3E} {Lv=:.3E}\")"
   ]
  },
  {
   "cell_type": "code",
   "execution_count": null,
   "metadata": {},
   "outputs": [
    {
     "data": {
      "image/png": "[encoded data removed]",
      "text/plain": [
       "<Figure size 640x480 with 1 Axes>"
      ]
     },
     "metadata": {},
     "output_type": "display_data"
    }
   ],
   "source": [
    "plt.semilogy(losses)\n",
    "plt.show()"
   ]
  },
  {
   "cell_type": "code",
   "execution_count": null,
   "metadata": {},
   "outputs": [
    {
     "data": {
      "image/png": "[encoded data removed]",
      "text/plain": [
       "<Figure size 640x480 with 1 Axes>"
      ]
     },
     "metadata": {},
     "output_type": "display_data"
    }
   ],
   "source": [
    "ix = jr.randint(key, (20_000,), 0, n_data)\n",
    "x, y = X[ix], Y[ix]\n",
    "\n",
    "y_ = jax.vmap(model)(x).squeeze()\n",
    "x = x.squeeze().max(axis=1)\n",
    "\n",
    "hist_kwargs = dict(bins=16, range=[0, 100])\n",
    "plt.figure()\n",
    "plt.hist(x, histtype=\"step\", **hist_kwargs)\n",
    "plt.hist(y_, histtype=\"step\", **hist_kwargs)\n",
    "plt.show()"
   ]
  }
 ],
 "metadata": {
  "kernelspec": {
   "display_name": "vit",
   "language": "python",
   "name": "python3"
  },
  "language_info": {
   "codemirror_mode": {
    "name": "ipython",
    "version": 3
   },
   "file_extension": ".py",
   "mimetype": "text/x-python",
   "name": "python",
   "nbconvert_exporter": "python",
   "pygments_lexer": "ipython3",
   "version": "3.12.4"
  }
 },
 "nbformat": 4,
 "nbformat_minor": 2
}
